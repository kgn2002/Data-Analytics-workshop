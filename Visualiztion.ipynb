{
  "cells": [
    {
      "cell_type": "markdown",
      "metadata": {
        "id": "view-in-github",
        "colab_type": "text"
      },
      "source": [
        "<a href=\"https://colab.research.google.com/github/kgn2002/Data-Analytics-workshop/blob/main/Visualiztion.ipynb\" target=\"_parent\"><img src=\"https://colab.research.google.com/assets/colab-badge.svg\" alt=\"Open In Colab\"/></a>"
      ]
    },
    {
      "cell_type": "markdown",
      "metadata": {
        "id": "xR2jOti4SI77"
      },
      "source": [
        "## MatplotLib Tutorial\n",
        "\n",
        "Matplotlib is a plotting library for the Python programming language and its numerical mathematics extension NumPy. It provides an object-oriented API for embedding plots into applications using general-purpose GUI toolkits like Tkinter, wxPython, Qt, or GTK+.\n",
        "\n",
        "Some of the major Pros of Matplotlib are:\n",
        "\n",
        "* Generally easy to get started for simple plots\n",
        "* Support for custom labels and texts\n",
        "* Great control of every element in a figure\n",
        "* High-quality output in many formats\n",
        "* Very customizable in general"
      ]
    },
    {
      "cell_type": "code",
      "execution_count": null,
      "metadata": {
        "id": "3GkxeekjSI8F"
      },
      "outputs": [],
      "source": [
        "import matplotlib.pyplot as plt\n",
        "\n",
        "%matplotlib inline"
      ]
    },
    {
      "cell_type": "code",
      "execution_count": null,
      "metadata": {
        "id": "gZaqqkYTSI8J"
      },
      "outputs": [],
      "source": [
        "import numpy as np"
      ]
    },
    {
      "cell_type": "code",
      "execution_count": null,
      "metadata": {
        "id": "O_WJxDkOSI8K"
      },
      "outputs": [],
      "source": [
        "## Simple Examples\n",
        "\n",
        "x=np.arange(0,10)\n",
        "y=np.arange(11,21)\n"
      ]
    },
    {
      "cell_type": "code",
      "execution_count": null,
      "metadata": {
        "id": "pVNvn8adSI8K"
      },
      "outputs": [],
      "source": [
        "a=np.arange(40,50)\n",
        "b=np.arange(50,60)\n"
      ]
    },
    {
      "cell_type": "code",
      "execution_count": null,
      "metadata": {
        "id": "xZDti3bPSI8L"
      },
      "outputs": [],
      "source": [
        "##plotting using matplotlib\n",
        "\n",
        "##plt scatter\n",
        "\n",
        "plt.scatter(x,y,c='g')\n",
        "plt.xlabel('X axis')\n",
        "plt.ylabel('Y axis')\n",
        "plt.title('Graph in 2D')\n",
        "plt.savefig('Test.png')\n",
        "\n"
      ]
    },
    {
      "cell_type": "code",
      "execution_count": null,
      "metadata": {
        "id": "N7Enee3lSI8N"
      },
      "outputs": [],
      "source": [
        "y=x*x"
      ]
    },
    {
      "cell_type": "code",
      "execution_count": null,
      "metadata": {
        "id": "q_1N1tPFSI8O"
      },
      "outputs": [],
      "source": [
        "## plt plot\n",
        "\n",
        "plt.plot(x,y,'r*',linestyle='dashed',linewidth=2, markersize=12)\n",
        "plt.xlabel('X axis')\n",
        "plt.ylabel('Y axis')\n",
        "plt.title('2d Diagram')"
      ]
    },
    {
      "cell_type": "code",
      "execution_count": null,
      "metadata": {
        "id": "LoP6NjnBSI8P"
      },
      "outputs": [],
      "source": [
        "## Creating Subplots\n",
        "\n",
        "plt.subplot(2,2,1)\n",
        "plt.plot(x,y,'r--')\n",
        "plt.subplot(2,2,2)\n",
        "plt.plot(x,y,'g*--')\n",
        "plt.subplot(2,2,3)\n",
        "plt.plot(x,y,'bo')\n",
        "plt.subplot(2,2,4)\n",
        "plt.plot(x,y,'go')\n"
      ]
    },
    {
      "cell_type": "markdown",
      "metadata": {
        "id": "aJe0aljcSI8Q"
      },
      "source": []
    },
    {
      "cell_type": "code",
      "execution_count": null,
      "metadata": {
        "id": "T66y3PQsSI8Q"
      },
      "outputs": [],
      "source": [
        "x = np.arange(1,11)\n",
        "y = 3 * x + 5\n",
        "plt.title(\"Matplotlib demo\")\n",
        "plt.xlabel(\"x axis caption\")\n",
        "plt.ylabel(\"y axis caption\")\n",
        "plt.plot(x,y)\n",
        "plt.show()"
      ]
    },
    {
      "cell_type": "code",
      "execution_count": null,
      "metadata": {
        "id": "leDltJ0SSI8R"
      },
      "outputs": [],
      "source": [
        "np.pi"
      ]
    },
    {
      "cell_type": "code",
      "execution_count": null,
      "metadata": {
        "id": "vxekvkrzSI8S"
      },
      "outputs": [],
      "source": [
        "# Compute the x and y coordinates for points on a sine curve\n",
        "x = np.arange(0, 4 * np.pi, 0.1)\n",
        "y = np.sin(x)\n",
        "plt.title(\"sine wave form\")\n",
        "\n",
        "# Plot the points using matplotlib\n",
        "plt.plot(x, y)\n",
        "plt.show()"
      ]
    },
    {
      "cell_type": "code",
      "execution_count": null,
      "metadata": {
        "id": "6n5vaFNrSI8S"
      },
      "outputs": [],
      "source": [
        "#Subplot()\n",
        "# Compute the x and y coordinates for points on sine and cosine curves\n",
        "x = np.arange(0, 5 * np.pi, 0.1)\n",
        "y_sin = np.sin(x)\n",
        "y_cos = np.cos(x)\n",
        "\n",
        "# Set up a subplot grid that has height 2 and width 1,\n",
        "# and set the first such subplot as active.\n",
        "plt.subplot(2, 1, 1)\n",
        "\n",
        "# Make the first plot\n",
        "plt.plot(x, y_sin,'r--')\n",
        "plt.title('Sine')\n",
        "\n",
        "# Set the second subplot as active, and make the second plot.\n",
        "plt.subplot(2, 1, 2)\n",
        "plt.plot(x, y_cos,'g--')\n",
        "plt.title('Cosine')\n",
        "\n",
        "# Show the figure.\n",
        "plt.show()"
      ]
    },
    {
      "cell_type": "code",
      "execution_count": null,
      "metadata": {
        "id": "DKSJudEtSI8T"
      },
      "outputs": [],
      "source": [
        "## Bar plot\n",
        "\n",
        "x = [2,8,10]\n",
        "y = [11,16,9]\n",
        "\n",
        "x2 = [3,9,11]\n",
        "y2 = [6,15,7]\n",
        "plt.bar(x, y)\n",
        "plt.bar(x2, y2, color = 'g')\n",
        "plt.title('Bar graph')\n",
        "plt.ylabel('Y axis')\n",
        "plt.xlabel('X axis')\n",
        "\n",
        "plt.show()"
      ]
    },
    {
      "cell_type": "markdown",
      "metadata": {
        "id": "82KjslbTSI8T"
      },
      "source": [
        "## Histograms"
      ]
    },
    {
      "cell_type": "code",
      "execution_count": null,
      "metadata": {
        "id": "hgT1jX7SSI8U"
      },
      "outputs": [],
      "source": [
        "a = np.array([22,87,5,43,56,73,55,54,11,20,51,5,79,31,27])\n",
        "plt.hist(a)\n",
        "plt.title(\"histogram\")\n",
        "plt.show()"
      ]
    },
    {
      "cell_type": "markdown",
      "metadata": {
        "id": "O3g0-YElSI8U"
      },
      "source": [
        "## Box Plot using Matplotlib"
      ]
    },
    {
      "cell_type": "code",
      "execution_count": null,
      "metadata": {
        "id": "Wwi6HgLKSI8U"
      },
      "outputs": [],
      "source": [
        "data = [np.random.normal(0, std, 100) for std in range(1, 4)]\n",
        "\n",
        "# rectangular box plot\n",
        "plt.boxplot(data,vert=True,patch_artist=False);"
      ]
    },
    {
      "cell_type": "code",
      "execution_count": null,
      "metadata": {
        "id": "IsT9DQ_fSI8V"
      },
      "outputs": [],
      "source": [
        "data"
      ]
    },
    {
      "cell_type": "markdown",
      "metadata": {
        "id": "vS1Bf90KSI8V"
      },
      "source": [
        "## Pie Chart"
      ]
    },
    {
      "cell_type": "code",
      "execution_count": null,
      "metadata": {
        "id": "T2OXGEufSI8V"
      },
      "outputs": [],
      "source": [
        "# Data to plot\n",
        "labels = 'Python', 'C++', 'Ruby', 'Java'\n",
        "sizes = [215, 130, 245, 210]\n",
        "colors = ['gold', 'yellowgreen', 'lightcoral', 'lightskyblue']\n",
        "explode = (0.4, 0, 0, 0)  # explode 1st slice\n",
        "\n",
        "# Plot\n",
        "plt.pie(sizes, explode=explode, labels=labels, colors=colors,\n",
        "autopct='%1.1f%%', shadow=False)\n",
        "\n",
        "plt.axis('equal')\n",
        "plt.show()"
      ]
    },
    {
      "cell_type": "code",
      "execution_count": null,
      "metadata": {
        "id": "kLt-KGQ4SI8W"
      },
      "outputs": [],
      "source": [
        "# prompt: generate some more additional plots, graph and charts\n",
        "\n",
        "import matplotlib.pyplot as plt\n",
        "import numpy as np\n",
        "\n",
        "# ... (your existing code)\n",
        "\n",
        "# Additional Plots\n",
        "\n",
        "# 1. Scatter Plot with different markers and sizes\n",
        "plt.figure(figsize=(8, 6))\n",
        "x = np.random.rand(50)\n",
        "y = np.random.rand(50)\n",
        "sizes = np.random.rand(50) * 100\n",
        "colors = np.random.rand(50)\n",
        "plt.scatter(x, y, s=sizes, c=colors, marker='o', alpha=0.7)  # Adjust marker and alpha\n",
        "plt.title('Scatter Plot with Varying Sizes and Colors')\n",
        "plt.xlabel('X-axis')\n",
        "plt.ylabel('Y-axis')\n",
        "plt.colorbar(label='Color Intensity')  # Add a colorbar for better understanding\n",
        "plt.show()\n",
        "\n"
      ]
    },
    {
      "cell_type": "code",
      "source": [
        "# 2. 3D Scatter Plot\n",
        "from mpl_toolkits.mplot3d import Axes3D\n",
        "fig = plt.figure(figsize=(8, 6))\n",
        "ax = fig.add_subplot(111, projection='3d')\n",
        "x = np.random.rand(50)\n",
        "y = np.random.rand(50)\n",
        "z = np.random.rand(50)\n",
        "ax.scatter(x, y, z, c='r', marker='o')\n",
        "ax.set_xlabel('X Label')\n",
        "ax.set_ylabel('Y Label')\n",
        "ax.set_zlabel('Z Label')\n",
        "ax.set_title('3D Scatter Plot')\n",
        "plt.show()\n",
        "\n"
      ],
      "metadata": {
        "id": "bfa-bk46TLU_"
      },
      "execution_count": null,
      "outputs": []
    },
    {
      "cell_type": "code",
      "source": [
        "# 3. Multiple Line Plots on the same axes\n",
        "x = np.linspace(0, 10, 100)\n",
        "y1 = np.sin(x)\n",
        "y2 = np.cos(x)\n",
        "y3 = np.tan(x)  # Added another function for demonstration\n",
        "\n",
        "plt.figure(figsize=(10, 6))\n",
        "plt.plot(x, y1, label='sin(x)', color='blue')\n",
        "plt.plot(x, y2, label='cos(x)', color='red', linestyle='--')\n",
        "plt.plot(x, y3, label='tan(x)', color='green', linestyle=':')\n",
        "plt.title('Multiple Line Plots')\n",
        "plt.xlabel('X-axis')\n",
        "plt.ylabel('Y-axis')\n",
        "plt.legend() # show the legend\n",
        "plt.grid(True)  # add a grid\n",
        "plt.show()\n",
        "\n",
        "\n"
      ],
      "metadata": {
        "id": "cBYzHTCJTR4W"
      },
      "execution_count": null,
      "outputs": []
    },
    {
      "cell_type": "code",
      "source": [
        "\n",
        "#4. Area Plot\n",
        "x = np.arange(0, 5, 0.1)\n",
        "y = np.sin(x)\n",
        "plt.fill_between(x,y,0, alpha=0.5) #fill area between y and 0\n",
        "plt.title(\"Area plot\")\n",
        "plt.xlabel('x')\n",
        "plt.ylabel('y')\n",
        "plt.show()\n",
        "\n"
      ],
      "metadata": {
        "id": "fF0xWHxwTVXq"
      },
      "execution_count": null,
      "outputs": []
    },
    {
      "cell_type": "code",
      "source": [
        "#5. Stacked bar chart\n",
        "men_means = (20, 35, 30, 35, 27)\n",
        "women_means = (25, 32, 34, 20, 25)\n",
        "men_std = (2, 3, 4, 1, 2)\n",
        "women_std = (3, 5, 2, 3, 3)\n",
        "ind = np.arange(len(men_means))\n",
        "width = 0.35\n",
        "\n",
        "plt.bar(ind, men_means, width, label='Men')\n",
        "plt.bar(ind, women_means, width, bottom=men_means, label='Women')\n",
        "\n",
        "plt.ylabel('Scores')\n",
        "plt.title('Scores by group and gender')\n",
        "plt.xticks(ind, ('G1', 'G2', 'G3', 'G4', 'G5'))\n",
        "plt.yticks(np.arange(0, 81, 10))\n",
        "plt.legend(loc='best')\n",
        "plt.show()"
      ],
      "metadata": {
        "id": "8OayjYQ4TXiM"
      },
      "execution_count": null,
      "outputs": []
    }
  ],
  "metadata": {
    "kernelspec": {
      "display_name": "Python 3",
      "language": "python",
      "name": "python3"
    },
    "language_info": {
      "codemirror_mode": {
        "name": "ipython",
        "version": 3
      },
      "file_extension": ".py",
      "mimetype": "text/x-python",
      "name": "python",
      "nbconvert_exporter": "python",
      "pygments_lexer": "ipython3",
      "version": "3.6.7"
    },
    "colab": {
      "provenance": [],
      "include_colab_link": true
    }
  },
  "nbformat": 4,
  "nbformat_minor": 0
}